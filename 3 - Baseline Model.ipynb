{
 "cells": [
  {
   "cell_type": "markdown",
   "metadata": {},
   "source": [
    "# Prep for Modelling"
   ]
  },
  {
   "cell_type": "code",
   "execution_count": 1,
   "metadata": {},
   "outputs": [
    {
     "name": "stderr",
     "output_type": "stream",
     "text": [
      "Using TensorFlow backend.\n"
     ]
    }
   ],
   "source": [
    "import time \n",
    "import matplotlib.pyplot as plt\n",
    "import scipy\n",
    "import numpy as np\n",
    "from PIL import Image\n",
    "from scipy import ndimage\n",
    "from keras.preprocessing.image import ImageDataGenerator, array_to_img, img_to_array, load_img\n",
    "import os, shutil\n",
    "\n",
    "np.random.seed(123)"
   ]
  },
  {
   "cell_type": "code",
   "execution_count": 2,
   "metadata": {},
   "outputs": [],
   "source": [
    "dog_breeds = ['Akitas','Australian Shepherds','Basset Hounds','Beagles','Belgian Malinois','Bernese Mountain',\n",
    "              'Bichons Frises','Bloodhounds','Border Collies','Boston Terriers','Boxers','Brittanys','Bulldogs',\n",
    "              'Cane Corso','Cavalier King Charles Spaniels','Chesapeake Bay Retrievers','Chihuahuas',\n",
    "              'Cocker Spaniels','Dachshunds','Dalmatians','Doberman Pinschers','English Cocker Spaniels',\n",
    "              'English Springer Spaniels','French Bulldogs','German Shepherd','German Shorthaired Pointers',\n",
    "              'Golden Retrievers','Great Danes','Havanese','Labrador Retrievers','Maltese','Mastiffs',\n",
    "              'Miniature American Shepherds','Miniature Schnauzers','Newfoundlands','Pembroke Welsh Corgis',\n",
    "              'Pomeranians','Poodles','Portuguese Water Dogs','Pugs','Rhodesian Ridgebacks','Rottweilers',\n",
    "              'Shetland Sheepdogs','Shiba Inu','Shih Tzu','Siberian Huskies','Vizslas','Weimaraners',\n",
    "              'West Highland White Terriers','Yorkshire Terriers']"
   ]
  },
  {
   "cell_type": "code",
   "execution_count": 3,
   "metadata": {},
   "outputs": [],
   "source": [
    "#Set batch size equal to the number of files in each folder\n",
    "\n",
    "test_folder = './split_data/test'\n",
    "train_folder = './split_data/train'\n",
    "validate_folder = './split_data/validate'\n",
    "\n",
    "count = 0\n",
    "\n",
    "for breed in dog_breeds:\n",
    "    \n",
    "    for file in os.listdir('./split_data/train/'+breed):\n",
    "        count += 1\n",
    "\n",
    "train_batch_size = count\n",
    "\n",
    "\n",
    "count = 0\n",
    "\n",
    "for breed in dog_breeds:\n",
    "    \n",
    "    for file in os.listdir('./split_data/test/'+breed):\n",
    "        count += 1\n",
    "\n",
    "test_batch_size = count\n",
    "\n",
    "\n",
    "count = 0\n",
    "\n",
    "for breed in dog_breeds:\n",
    "    \n",
    "    for file in os.listdir('./split_data/validate/'+breed):\n",
    "        count += 1\n",
    "\n",
    "validate_batch_size = count"
   ]
  },
  {
   "cell_type": "code",
   "execution_count": 4,
   "metadata": {},
   "outputs": [
    {
     "name": "stdout",
     "output_type": "stream",
     "text": [
      "Found 3550 images belonging to 50 classes.\n",
      "Found 6000 images belonging to 50 classes.\n",
      "Found 14350 images belonging to 50 classes.\n"
     ]
    }
   ],
   "source": [
    "#resizing images\n",
    "\n",
    "#test\n",
    "test_generator = ImageDataGenerator(rescale=1./255).flow_from_directory(\n",
    "        test_folder, \n",
    "        target_size=(64, 64), batch_size = test_batch_size) \n",
    "\n",
    "#validate\n",
    "val_generator = ImageDataGenerator(rescale=1./255).flow_from_directory(\n",
    "        validate_folder, \n",
    "        target_size=(64, 64), batch_size = validate_batch_size)\n",
    "\n",
    "#train\n",
    "train_generator = ImageDataGenerator(rescale=1./255).flow_from_directory(\n",
    "        train_folder, \n",
    "        target_size=(64, 64), batch_size=train_batch_size)"
   ]
  },
  {
   "cell_type": "code",
   "execution_count": 5,
   "metadata": {},
   "outputs": [],
   "source": [
    "# create the data sets\n",
    "train_images, train_labels = next(train_generator)\n",
    "test_images, test_labels = next(test_generator)\n",
    "validate_images, validate_labels = next(val_generator)"
   ]
  },
  {
   "cell_type": "code",
   "execution_count": 6,
   "metadata": {},
   "outputs": [
    {
     "name": "stdout",
     "output_type": "stream",
     "text": [
      "Number of training samples: 14350\n",
      "Number of testing samples: 3550\n",
      "Number of validation samples: 6000\n",
      "train_images shape: (14350, 64, 64, 3)\n",
      "train_labels shape: (14350, 50)\n",
      "test_images shape: (3550, 64, 64, 3)\n",
      "test_labels shape: (3550, 50)\n",
      "val_images shape: (6000, 64, 64, 3)\n",
      "val_labels shape: (6000, 50)\n"
     ]
    }
   ],
   "source": [
    "# Explore your dataset again\n",
    "m_train = train_images.shape[0]\n",
    "num_px = train_images.shape[1]\n",
    "m_test = test_images.shape[0]\n",
    "m_val = validate_images.shape[0]\n",
    "\n",
    "print (\"Number of training samples: \" + str(m_train))\n",
    "print (\"Number of testing samples: \" + str(m_test))\n",
    "print (\"Number of validation samples: \" + str(m_val))\n",
    "print (\"train_images shape: \" + str(train_images.shape))\n",
    "print (\"train_labels shape: \" + str(train_labels.shape))\n",
    "print (\"test_images shape: \" + str(test_images.shape))\n",
    "print (\"test_labels shape: \" + str(test_labels.shape))\n",
    "print (\"val_images shape: \" + str(validate_images.shape))\n",
    "print (\"val_labels shape: \" + str(validate_labels.shape))"
   ]
  },
  {
   "cell_type": "code",
   "execution_count": 7,
   "metadata": {},
   "outputs": [
    {
     "name": "stdout",
     "output_type": "stream",
     "text": [
      "(14350, 12288)\n",
      "(3550, 12288)\n",
      "(6000, 12288)\n"
     ]
    }
   ],
   "source": [
    "train_img = train_images.reshape(train_images.shape[0], -1)\n",
    "test_img = test_images.reshape(test_images.shape[0], -1)\n",
    "val_img = validate_images.reshape(validate_images.shape[0], -1)\n",
    "\n",
    "print(train_img.shape)\n",
    "print(test_img.shape)\n",
    "print(val_img.shape)"
   ]
  },
  {
   "cell_type": "code",
   "execution_count": 8,
   "metadata": {},
   "outputs": [],
   "source": [
    "train_y = np.reshape(train_labels[:,0], (14350,1))\n",
    "test_y = np.reshape(test_labels[:,0], (3550,1))\n",
    "val_y = np.reshape(validate_labels[:,0], (6000,1))"
   ]
  },
  {
   "cell_type": "code",
   "execution_count": 9,
   "metadata": {},
   "outputs": [],
   "source": [
    "#export the datasets for later use\n",
    "\n",
    "import pickle\n",
    "\n",
    "pickle.dump(train_y, open(\"train_y.pkl\", \"wb\"))\n",
    "pickle.dump(test_y, open(\"test_y.pkl\", \"wb\"))\n",
    "pickle.dump(val_y, open(\"val_y.pkl\", \"wb\"))\n",
    "\n",
    "pickle.dump(train_img, open(\"train_img.pkl\", \"wb\"))\n",
    "pickle.dump(test_img, open(\"test_img.pkl\", \"wb\"))\n",
    "pickle.dump(val_img, open(\"val_img.pkl\", \"wb\"))\n",
    "\n",
    "pickle.dump(train_images, open(\"train_images.pkl\", \"wb\"))\n",
    "pickle.dump(test_images, open(\"test_images.pkl\", \"wb\"))\n",
    "pickle.dump(validate_images, open(\"validate_images.pkl\", \"wb\"))\n",
    "\n",
    "pickle.dump(train_labels, open(\"train_labels.pkl\", \"wb\"))\n",
    "pickle.dump(test_labels, open(\"test_labels.pkl\", \"wb\"))\n",
    "pickle.dump(validate_labels, open(\"val_labels.pkl\", \"wb\"))"
   ]
  },
  {
   "cell_type": "markdown",
   "metadata": {},
   "source": [
    "# Baseline Model"
   ]
  },
  {
   "cell_type": "code",
   "execution_count": 10,
   "metadata": {},
   "outputs": [],
   "source": [
    "# Build a baseline fully connected model\n",
    "from keras import models\n",
    "from keras import layers\n",
    "np.random.seed(123)\n",
    "model = models.Sequential()\n",
    "model.add(layers.Dense(200, activation='relu', input_shape=(12288,))) # 2 hidden layers\n",
    "model.add(layers.Dense(150, activation='relu'))\n",
    "model.add(layers.Dense(100, activation='relu'))\n",
    "model.add(layers.Dense(50, activation='relu'))"
   ]
  },
  {
   "cell_type": "code",
   "execution_count": 11,
   "metadata": {
    "scrolled": false
   },
   "outputs": [
    {
     "name": "stdout",
     "output_type": "stream",
     "text": [
      "Train on 14350 samples, validate on 6000 samples\n",
      "Epoch 1/50\n",
      "14350/14350 [==============================] - 7s 471us/step - loss: 8.5579 - acc: 0.0202 - val_loss: 8.2558 - val_acc: 0.0202\n",
      "Epoch 2/50\n",
      "14350/14350 [==============================] - 7s 463us/step - loss: 8.2557 - acc: 0.0178 - val_loss: 8.2535 - val_acc: 0.0215\n",
      "Epoch 3/50\n",
      "14350/14350 [==============================] - 7s 464us/step - loss: 8.2541 - acc: 0.0222 - val_loss: 8.2522 - val_acc: 0.0258\n",
      "Epoch 4/50\n",
      "14350/14350 [==============================] - 7s 466us/step - loss: 8.2527 - acc: 0.0225 - val_loss: 8.2507 - val_acc: 0.0202\n",
      "Epoch 5/50\n",
      "14350/14350 [==============================] - 7s 466us/step - loss: 8.2397 - acc: 0.0229 - val_loss: 8.0188 - val_acc: 0.0202\n",
      "Epoch 6/50\n",
      "14350/14350 [==============================] - 7s 467us/step - loss: 8.0126 - acc: 0.0255 - val_loss: 8.0063 - val_acc: 0.0270\n",
      "Epoch 7/50\n",
      "14350/14350 [==============================] - 7s 473us/step - loss: 7.8930 - acc: 0.0297 - val_loss: 7.7655 - val_acc: 0.0247\n",
      "Epoch 8/50\n",
      "14350/14350 [==============================] - 7s 469us/step - loss: 6.0407 - acc: 0.0199 - val_loss: 5.9412 - val_acc: 0.0200\n",
      "Epoch 9/50\n",
      "14350/14350 [==============================] - 7s 474us/step - loss: 5.2438 - acc: 0.0198 - val_loss: 5.0324 - val_acc: 0.0200\n",
      "Epoch 10/50\n",
      "14350/14350 [==============================] - 7s 476us/step - loss: 4.9228 - acc: 0.0205 - val_loss: 4.8241 - val_acc: 0.0200\n",
      "Epoch 11/50\n",
      "14350/14350 [==============================] - 7s 480us/step - loss: 4.8076 - acc: 0.0199 - val_loss: 4.7914 - val_acc: 0.0207\n",
      "Epoch 12/50\n",
      "14350/14350 [==============================] - 7s 482us/step - loss: 4.6951 - acc: 0.0240 - val_loss: 4.5482 - val_acc: 0.0295\n",
      "Epoch 13/50\n",
      "14350/14350 [==============================] - 7s 483us/step - loss: 4.5485 - acc: 0.0294 - val_loss: 4.6442 - val_acc: 0.0200\n",
      "Epoch 14/50\n",
      "14350/14350 [==============================] - 7s 484us/step - loss: 4.5972 - acc: 0.0200 - val_loss: 4.5695 - val_acc: 0.0200\n",
      "Epoch 15/50\n",
      "14350/14350 [==============================] - 7s 487us/step - loss: 4.5560 - acc: 0.0199 - val_loss: 4.5433 - val_acc: 0.0170\n",
      "Epoch 16/50\n",
      "14350/14350 [==============================] - 7s 489us/step - loss: 4.3795 - acc: 0.0183 - val_loss: 4.3011 - val_acc: 0.0302\n",
      "Epoch 17/50\n",
      "14350/14350 [==============================] - 7s 491us/step - loss: 4.3027 - acc: 0.0339 - val_loss: 4.2888 - val_acc: 0.0378\n",
      "Epoch 18/50\n",
      "14350/14350 [==============================] - 7s 490us/step - loss: 4.2846 - acc: 0.0367 - val_loss: 4.2960 - val_acc: 0.0330\n",
      "Epoch 19/50\n",
      "14350/14350 [==============================] - 7s 490us/step - loss: 4.2767 - acc: 0.0387 - val_loss: 4.2768 - val_acc: 0.0345\n",
      "Epoch 20/50\n",
      "14350/14350 [==============================] - 7s 492us/step - loss: 4.2645 - acc: 0.0422 - val_loss: 4.2770 - val_acc: 0.0362\n",
      "Epoch 21/50\n",
      "14350/14350 [==============================] - 7s 502us/step - loss: 4.2542 - acc: 0.0431 - val_loss: 4.2611 - val_acc: 0.0423\n",
      "Epoch 22/50\n",
      "14350/14350 [==============================] - 7s 506us/step - loss: 4.2458 - acc: 0.0430 - val_loss: 4.2752 - val_acc: 0.0418\n",
      "Epoch 23/50\n",
      "14350/14350 [==============================] - 8s 527us/step - loss: 4.3670 - acc: 0.0308 - val_loss: 4.4038 - val_acc: 0.0200\n",
      "Epoch 24/50\n",
      "14350/14350 [==============================] - 7s 464us/step - loss: 4.3923 - acc: 0.0200 - val_loss: 4.3809 - val_acc: 0.0200\n",
      "Epoch 25/50\n",
      "14350/14350 [==============================] - 7s 493us/step - loss: 4.3765 - acc: 0.0200 - val_loss: 4.3696 - val_acc: 0.0200\n",
      "Epoch 26/50\n",
      "14350/14350 [==============================] - 7s 476us/step - loss: 4.3677 - acc: 0.0200 - val_loss: 4.3633 - val_acc: 0.0200\n",
      "Epoch 27/50\n",
      "14350/14350 [==============================] - 7s 472us/step - loss: 4.3632 - acc: 0.0200 - val_loss: 4.3606 - val_acc: 0.0200\n",
      "Epoch 28/50\n",
      "14350/14350 [==============================] - 7s 474us/step - loss: 4.3613 - acc: 0.0200 - val_loss: 4.3594 - val_acc: 0.0200\n",
      "Epoch 29/50\n",
      "14350/14350 [==============================] - 7s 469us/step - loss: 4.3605 - acc: 0.0199 - val_loss: 4.3591 - val_acc: 0.0200\n",
      "Epoch 30/50\n",
      "14350/14350 [==============================] - 7s 472us/step - loss: 4.3603 - acc: 0.0225 - val_loss: 4.3586 - val_acc: 0.0230\n",
      "Epoch 31/50\n",
      "14350/14350 [==============================] - 7s 475us/step - loss: 4.3601 - acc: 0.0211 - val_loss: 4.3583 - val_acc: 0.0240\n",
      "Epoch 32/50\n",
      "14350/14350 [==============================] - 7s 476us/step - loss: 4.3597 - acc: 0.0200 - val_loss: 4.3580 - val_acc: 0.0353\n",
      "Epoch 33/50\n",
      "14350/14350 [==============================] - 7s 469us/step - loss: 4.3593 - acc: 0.0210 - val_loss: 4.3577 - val_acc: 0.0228\n",
      "Epoch 34/50\n",
      "14350/14350 [==============================] - 7s 470us/step - loss: 4.3590 - acc: 0.0205 - val_loss: 4.3573 - val_acc: 0.0257\n",
      "Epoch 35/50\n",
      "14350/14350 [==============================] - 7s 515us/step - loss: 4.3584 - acc: 0.0226 - val_loss: 4.3569 - val_acc: 0.0298\n",
      "Epoch 36/50\n",
      "14350/14350 [==============================] - 8s 531us/step - loss: 4.3580 - acc: 0.0252 - val_loss: 4.3561 - val_acc: 0.0230\n",
      "Epoch 37/50\n",
      "14350/14350 [==============================] - 7s 508us/step - loss: 4.3573 - acc: 0.0264 - val_loss: 4.3551 - val_acc: 0.0265\n",
      "Epoch 38/50\n",
      "14350/14350 [==============================] - 7s 470us/step - loss: 4.3561 - acc: 0.0236 - val_loss: 4.3541 - val_acc: 0.0408\n",
      "Epoch 39/50\n",
      "14350/14350 [==============================] - 7s 503us/step - loss: 4.3548 - acc: 0.0243 - val_loss: 4.3523 - val_acc: 0.0343\n",
      "Epoch 40/50\n",
      "14350/14350 [==============================] - 9s 630us/step - loss: 4.3528 - acc: 0.0247 - val_loss: 4.3499 - val_acc: 0.0288\n",
      "Epoch 41/50\n",
      "14350/14350 [==============================] - 7s 519us/step - loss: 4.3495 - acc: 0.0302 - val_loss: 4.3453 - val_acc: 0.0272\n",
      "Epoch 42/50\n",
      "14350/14350 [==============================] - 6s 436us/step - loss: 4.3425 - acc: 0.0300 - val_loss: 4.3350 - val_acc: 0.0297\n",
      "Epoch 43/50\n",
      "14350/14350 [==============================] - 7s 469us/step - loss: 4.2946 - acc: 0.0340 - val_loss: 4.0875 - val_acc: 0.0360\n",
      "Epoch 44/50\n",
      "14350/14350 [==============================] - 6s 435us/step - loss: 4.2178 - acc: 0.0292 - val_loss: 4.1830 - val_acc: 0.0200\n",
      "Epoch 45/50\n",
      "14350/14350 [==============================] - 7s 517us/step - loss: 4.1598 - acc: 0.0200 - val_loss: 4.1466 - val_acc: 0.0200\n",
      "Epoch 46/50\n",
      "14350/14350 [==============================] - 7s 503us/step - loss: 4.1430 - acc: 0.0200 - val_loss: 4.1376 - val_acc: 0.0200\n",
      "Epoch 47/50\n",
      "14350/14350 [==============================] - 7s 486us/step - loss: 4.1363 - acc: 0.0200 - val_loss: 4.1327 - val_acc: 0.0200\n",
      "Epoch 48/50\n",
      "14350/14350 [==============================] - 6s 439us/step - loss: 4.1322 - acc: 0.0200 - val_loss: 4.1294 - val_acc: 0.0200\n",
      "Epoch 49/50\n",
      "14350/14350 [==============================] - 7s 516us/step - loss: 4.1296 - acc: 0.0203 - val_loss: 4.1274 - val_acc: 0.0215\n",
      "Epoch 50/50\n",
      "14350/14350 [==============================] - 7s 474us/step - loss: 4.1275 - acc: 0.0247 - val_loss: 4.1244 - val_acc: 0.0307\n"
     ]
    }
   ],
   "source": [
    "model.compile(optimizer='sgd',\n",
    "              loss='categorical_crossentropy',\n",
    "              metrics=['accuracy'])\n",
    "\n",
    "histoire = model.fit(train_img,\n",
    "                    train_labels,\n",
    "                    epochs=50,\n",
    "                    batch_size=32,\n",
    "                    validation_data=(val_img, validate_labels))"
   ]
  },
  {
   "cell_type": "code",
   "execution_count": 12,
   "metadata": {},
   "outputs": [],
   "source": [
    "model.save('model.baseline')\n",
    "model.save_weights('model_weights.baseline')"
   ]
  },
  {
   "cell_type": "code",
   "execution_count": 13,
   "metadata": {},
   "outputs": [
    {
     "name": "stdout",
     "output_type": "stream",
     "text": [
      "14350/14350 [==============================] - 1s 71us/step\n",
      "3550/3550 [==============================] - 0s 75us/step\n"
     ]
    }
   ],
   "source": [
    "results_train = model.evaluate(train_img, train_labels)\n",
    "results_test = model.evaluate(test_img, test_labels)"
   ]
  },
  {
   "cell_type": "code",
   "execution_count": 14,
   "metadata": {},
   "outputs": [
    {
     "data": {
      "text/plain": [
       "[4.124383117496344, 0.028710801393728225]"
      ]
     },
     "execution_count": 14,
     "metadata": {},
     "output_type": "execute_result"
    }
   ],
   "source": [
    "results_train"
   ]
  },
  {
   "cell_type": "code",
   "execution_count": 15,
   "metadata": {},
   "outputs": [
    {
     "data": {
      "text/plain": [
       "[4.124350604070744, 0.031549295789339175]"
      ]
     },
     "execution_count": 15,
     "metadata": {},
     "output_type": "execute_result"
    }
   ],
   "source": [
    "results_test"
   ]
  },
  {
   "cell_type": "code",
   "execution_count": 16,
   "metadata": {},
   "outputs": [],
   "source": [
    "def visualize_training_results(results):\n",
    "    history = results.history\n",
    "    plt.figure()\n",
    "    plt.plot(history['val_loss'])\n",
    "    plt.plot(history['loss'])\n",
    "    plt.legend(['val_loss', 'loss'])\n",
    "    plt.title('Loss')\n",
    "    plt.xlabel('Epochs')\n",
    "    plt.ylabel('Loss')\n",
    "    plt.show()\n",
    "    \n",
    "    plt.figure()\n",
    "    plt.plot(history['val_acc'])\n",
    "    plt.plot(history['acc'])\n",
    "    plt.legend(['val_acc', 'acc'])\n",
    "    plt.title('Accuracy')\n",
    "    plt.xlabel('Epochs')\n",
    "    plt.ylabel('Accuracy')\n",
    "    plt.show()"
   ]
  },
  {
   "cell_type": "code",
   "execution_count": 17,
   "metadata": {
    "scrolled": false
   },
   "outputs": [
    {
     "data": {
      "image/png": "[encoded data removed]",
      "text/plain": [
       "<Figure size 432x288 with 1 Axes>"
      ]
     },
     "metadata": {
      "needs_background": "light"
     },
     "output_type": "display_data"
    },
    {
     "data": {
      "image/png": "[encoded data removed]",
      "text/plain": [
       "<Figure size 432x288 with 1 Axes>"
      ]
     },
     "metadata": {
      "needs_background": "light"
     },
     "output_type": "display_data"
    }
   ],
   "source": [
    "visualize_training_results(histoire)"
   ]
  },
  {
   "cell_type": "markdown",
   "metadata": {},
   "source": [
    "## Model Notes"
   ]
  },
  {
   "cell_type": "markdown",
   "metadata": {},
   "source": []
  },
  {
   "cell_type": "code",
   "execution_count": 18,
   "metadata": {},
   "outputs": [],
   "source": [
    "#Baseline model is not very good. \n",
    "#While loss is low and plateaus around epoch 15, accuracy remains low. \n",
    "#accuracy hovers around 3%. \n",
    "\n",
    "\n",
    "#Moving on to a CNN model."
   ]
  }
 ],
 "metadata": {
  "kernelspec": {
   "display_name": "Python 3",
   "language": "python",
   "name": "python3"
  },
  "language_info": {
   "codemirror_mode": {
    "name": "ipython",
    "version": 3
   },
   "file_extension": ".py",
   "mimetype": "text/x-python",
   "name": "python",
   "nbconvert_exporter": "python",
   "pygments_lexer": "ipython3",
   "version": "3.6.9"
  },
  "toc": {
   "base_numbering": 1,
   "nav_menu": {},
   "number_sections": true,
   "sideBar": true,
   "skip_h1_title": false,
   "title_cell": "Table of Contents",
   "title_sidebar": "Contents",
   "toc_cell": false,
   "toc_position": {
    "height": "calc(100% - 180px)",
    "left": "10px",
    "top": "150px",
    "width": "358.391px"
   },
   "toc_section_display": true,
   "toc_window_display": true
  },
  "varInspector": {
   "cols": {
    "lenName": 16,
    "lenType": 16,
    "lenVar": 40
   },
   "kernels_config": {
    "python": {
     "delete_cmd_postfix": "",
     "delete_cmd_prefix": "del ",
     "library": "var_list.py",
     "varRefreshCmd": "print(var_dic_list())"
    },
    "r": {
     "delete_cmd_postfix": ") ",
     "delete_cmd_prefix": "rm(",
     "library": "var_list.r",
     "varRefreshCmd": "cat(var_dic_list()) "
    }
   },
   "oldHeight": 122,
   "position": {
    "height": "40px",
    "left": "1522px",
    "right": "20px",
    "top": "120px",
    "width": "250px"
   },
   "types_to_exclude": [
    "module",
    "function",
    "builtin_function_or_method",
    "instance",
    "_Feature"
   ],
   "varInspector_section_display": "none",
   "window_display": true
  }
 },
 "nbformat": 4,
 "nbformat_minor": 2
}
