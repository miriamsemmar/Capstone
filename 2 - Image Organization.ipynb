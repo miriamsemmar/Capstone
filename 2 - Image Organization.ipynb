{
 "cells": [
  {
   "cell_type": "markdown",
   "metadata": {},
   "source": [
    "# Arranging images into train, test and validation folders"
   ]
  },
  {
   "cell_type": "code",
   "execution_count": 2,
   "metadata": {},
   "outputs": [],
   "source": [
    "import os, shutil"
   ]
  },
  {
   "cell_type": "markdown",
   "metadata": {},
   "source": [
    "## Creating the folders"
   ]
  },
  {
   "cell_type": "code",
   "execution_count": 82,
   "metadata": {},
   "outputs": [],
   "source": [
    "# Making train, test and validation folders that contain a folder for each breed\n",
    "#50 folders for each set\n",
    "\n",
    "new_dir = 'split_data/'\n",
    "train = os.path.join(new_dir, 'train')\n",
    "test = os.path.join(new_dir, 'test')\n",
    "validate = os.path.join(new_dir, 'validate')\n",
    "\n",
    "os.mkdir(new_dir)\n",
    "os.mkdir(train)\n",
    "os.mkdir(test)\n",
    "os.mkdir(validate)\n",
    "\n",
    "for breed in dog_breeds:\n",
    "    os.mkdir(os.path.join(train, breed))\n",
    "    os.mkdir(os.path.join(test, breed))\n",
    "    os.mkdir(os.path.join(validate, breed))\n"
   ]
  },
  {
   "cell_type": "markdown",
   "metadata": {},
   "source": [
    "## Determining the number of image files to retain"
   ]
  },
  {
   "cell_type": "code",
   "execution_count": 4,
   "metadata": {},
   "outputs": [],
   "source": [
    "dog_breeds = ['Akitas','Australian Shepherds','Basset Hounds','Beagles','Belgian Malinois','Bernese Mountain',\n",
    "              'Bichons Frises','Bloodhounds','Border Collies','Boston Terriers','Boxers','Brittanys','Bulldogs',\n",
    "              'Cane Corso','Cavalier King Charles Spaniels','Chesapeake Bay Retrievers','Chihuahuas',\n",
    "              'Cocker Spaniels','Dachshunds','Dalmatians','Doberman Pinschers','English Cocker Spaniels',\n",
    "              'English Springer Spaniels','French Bulldogs','German Shepherd','German Shorthaired Pointers',\n",
    "              'Golden Retrievers','Great Danes','Havanese','Labrador Retrievers','Maltese','Mastiffs',\n",
    "              'Miniature American Shepherds','Miniature Schnauzers','Newfoundlands','Pembroke Welsh Corgis',\n",
    "              'Pomeranians','Poodles','Portuguese Water Dogs','Pugs','Rhodesian Ridgebacks','Rottweilers',\n",
    "              'Shetland Sheepdogs','Shiba Inu','Shih Tzu','Siberian Huskies','Vizslas','Weimaraners',\n",
    "              'West Highland White Terriers','Yorkshire Terriers']"
   ]
  },
  {
   "cell_type": "code",
   "execution_count": 10,
   "metadata": {},
   "outputs": [],
   "source": [
    "image_count = []\n",
    "\n",
    "for breed in dog_breeds:\n",
    "    count = 0 \n",
    "    for file in os.listdir('./Dog Images/'):\n",
    "        if file.startswith((breed.replace(\" \",\"_\"))):\n",
    "            count += 1\n",
    "        else: \n",
    "            pass\n",
    "    image_count.append(count)"
   ]
  },
  {
   "cell_type": "code",
   "execution_count": 11,
   "metadata": {},
   "outputs": [],
   "source": [
    "breed_img_count_dict = dict(zip(dog_breeds, image_count))"
   ]
  },
  {
   "cell_type": "code",
   "execution_count": 33,
   "metadata": {},
   "outputs": [
    {
     "data": {
      "text/plain": [
       "478"
      ]
     },
     "execution_count": 33,
     "metadata": {},
     "output_type": "execute_result"
    }
   ],
   "source": [
    "#Determining the lowest number of images returned\n",
    "#will limit all breeds to use this number to prevent class imbalance\n",
    "\n",
    "lowest_img_count = min(breed_img_count_dict, key=breed_img_count_dict.get)\n",
    "breed_img_count_dict[lowest_img_count]"
   ]
  },
  {
   "cell_type": "code",
   "execution_count": null,
   "metadata": {},
   "outputs": [],
   "source": [
    "#train, test, validate sizes\n",
    "\n",
    "#train = 287 ~60%\n",
    "#test = 71 ~15%\n",
    "#validate = 120 ~25%"
   ]
  },
  {
   "cell_type": "markdown",
   "metadata": {},
   "source": [
    "## Copying images into the sub folders"
   ]
  },
  {
   "cell_type": "code",
   "execution_count": 78,
   "metadata": {},
   "outputs": [],
   "source": [
    "#Creating a dictionary in order to isolate the files for each breed\n",
    "\n",
    "breed_img_filenames_dict = {}\n",
    "\n",
    "for breed in dog_breeds:\n",
    "    \n",
    "    image_file_names = []\n",
    "    \n",
    "    for file in os.listdir('./Dog Images/'):\n",
    "        if file.startswith((breed.replace(\" \",\"_\"))):\n",
    "            image_file_names.append(file)\n",
    "        else: \n",
    "            pass\n",
    "        \n",
    "    breed_img_filenames_dict[breed] = image_file_names"
   ]
  },
  {
   "cell_type": "code",
   "execution_count": 79,
   "metadata": {},
   "outputs": [],
   "source": [
    "#Train Data\n",
    "\n",
    "for breed in dog_breeds:\n",
    "    \n",
    "    imgs = breed_img_filenames_dict[breed][:287]\n",
    "\n",
    "    for img in imgs:\n",
    "        origin = os.path.join('./Dog Images/', img)\n",
    "        destination = os.path.join(('./split_data/train/'+breed), img)\n",
    "        shutil.copyfile(origin, destination)\n"
   ]
  },
  {
   "cell_type": "code",
   "execution_count": 80,
   "metadata": {},
   "outputs": [],
   "source": [
    "#Test Data\n",
    "\n",
    "for breed in dog_breeds:\n",
    "    \n",
    "    imgs = breed_img_filenames_dict[breed][287:358]\n",
    "\n",
    "    for img in imgs:\n",
    "        origin = os.path.join('./Dog Images/', img)\n",
    "        destination = os.path.join(('./split_data/test/'+breed), img)\n",
    "        shutil.copyfile(origin, destination)\n"
   ]
  },
  {
   "cell_type": "code",
   "execution_count": 83,
   "metadata": {},
   "outputs": [],
   "source": [
    "#Validate Data\n",
    "\n",
    "for breed in dog_breeds:\n",
    "    \n",
    "    imgs = breed_img_filenames_dict[breed][358:478]\n",
    "\n",
    "    for img in imgs:\n",
    "        origin = os.path.join('./Dog Images/', img)\n",
    "        destination = os.path.join(('./split_data/validate/'+breed), img)\n",
    "        shutil.copyfile(origin, destination)\n"
   ]
  },
  {
   "cell_type": "markdown",
   "metadata": {},
   "source": [
    "## Check counts"
   ]
  },
  {
   "cell_type": "code",
   "execution_count": 84,
   "metadata": {},
   "outputs": [
    {
     "data": {
      "text/plain": [
       "14350"
      ]
     },
     "execution_count": 84,
     "metadata": {},
     "output_type": "execute_result"
    }
   ],
   "source": [
    "# train expected \n",
    "50*287"
   ]
  },
  {
   "cell_type": "code",
   "execution_count": 88,
   "metadata": {},
   "outputs": [
    {
     "name": "stdout",
     "output_type": "stream",
     "text": [
      "14350\n"
     ]
    }
   ],
   "source": [
    "count = 0\n",
    "\n",
    "for breed in dog_breeds:\n",
    "    \n",
    "    for file in os.listdir('./split_data/train/'+breed):\n",
    "        count += 1\n",
    "\n",
    "print(count)"
   ]
  },
  {
   "cell_type": "code",
   "execution_count": 87,
   "metadata": {},
   "outputs": [
    {
     "data": {
      "text/plain": [
       "3550"
      ]
     },
     "execution_count": 87,
     "metadata": {},
     "output_type": "execute_result"
    }
   ],
   "source": [
    "# test expected \n",
    "50*71"
   ]
  },
  {
   "cell_type": "code",
   "execution_count": null,
   "metadata": {},
   "outputs": [],
   "source": [
    "count = 0\n",
    "\n",
    "for breed in dog_breeds:\n",
    "    \n",
    "    for file in os.listdir('./split_data/test/'+breed):\n",
    "        count += 1\n",
    "\n",
    "print(count)"
   ]
  },
  {
   "cell_type": "code",
   "execution_count": 89,
   "metadata": {},
   "outputs": [
    {
     "data": {
      "text/plain": [
       "6000"
      ]
     },
     "execution_count": 89,
     "metadata": {},
     "output_type": "execute_result"
    }
   ],
   "source": [
    "# validate expected \n",
    "50*120"
   ]
  },
  {
   "cell_type": "code",
   "execution_count": 90,
   "metadata": {},
   "outputs": [
    {
     "name": "stdout",
     "output_type": "stream",
     "text": [
      "6000\n"
     ]
    }
   ],
   "source": [
    "count = 0\n",
    "\n",
    "for breed in dog_breeds:\n",
    "    \n",
    "    for file in os.listdir('./split_data/validate/'+breed):\n",
    "        count += 1\n",
    "\n",
    "print(count)"
   ]
  },
  {
   "cell_type": "markdown",
   "metadata": {},
   "source": []
  }
 ],
 "metadata": {
  "kernelspec": {
   "display_name": "Python 3",
   "language": "python",
   "name": "python3"
  },
  "language_info": {
   "codemirror_mode": {
    "name": "ipython",
    "version": 3
   },
   "file_extension": ".py",
   "mimetype": "text/x-python",
   "name": "python",
   "nbconvert_exporter": "python",
   "pygments_lexer": "ipython3",
   "version": "3.6.9"
  },
  "toc": {
   "base_numbering": 1,
   "nav_menu": {},
   "number_sections": true,
   "sideBar": true,
   "skip_h1_title": false,
   "title_cell": "Table of Contents",
   "title_sidebar": "Contents",
   "toc_cell": false,
   "toc_position": {},
   "toc_section_display": true,
   "toc_window_display": true
  },
  "varInspector": {
   "cols": {
    "lenName": 16,
    "lenType": 16,
    "lenVar": 40
   },
   "kernels_config": {
    "python": {
     "delete_cmd_postfix": "",
     "delete_cmd_prefix": "del ",
     "library": "var_list.py",
     "varRefreshCmd": "print(var_dic_list())"
    },
    "r": {
     "delete_cmd_postfix": ") ",
     "delete_cmd_prefix": "rm(",
     "library": "var_list.r",
     "varRefreshCmd": "cat(var_dic_list()) "
    }
   },
   "oldHeight": 122,
   "position": {
    "height": "40px",
    "left": "1522px",
    "right": "20px",
    "top": "120px",
    "width": "250px"
   },
   "types_to_exclude": [
    "module",
    "function",
    "builtin_function_or_method",
    "instance",
    "_Feature"
   ],
   "varInspector_section_display": "none",
   "window_display": true
  }
 },
 "nbformat": 4,
 "nbformat_minor": 2
}
