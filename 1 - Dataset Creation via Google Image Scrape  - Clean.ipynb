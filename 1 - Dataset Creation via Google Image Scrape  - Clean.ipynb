{
 "cells": [
  {
   "cell_type": "markdown",
   "metadata": {},
   "source": [
    "# Introduction"
   ]
  },
  {
   "cell_type": "markdown",
   "metadata": {},
   "source": [
    "53% of Americans households include a dog, creating a huge market and need for canine cre products. A strong dog image classification model can have many applications including creating more custom/personalized product recommendations to pet parents. Dog classification would also allow for more personalized marketing of these products. \n",
    "\n",
    "Additionally, a dog image classification model could be a tool to help identify lost dogs and help reunite them with their owners through facial recognition.\n",
    "\n",
    "Barking Data Inc. would like to develop this model in order to sell the various applications that will come out of it to pet product companies, veterinary offices, animal rescues and other companies who may benefits from these tools.\n",
    "\n",
    "To begin the development of the model we will eventually sell, we will start by building a model using the 50 most popular dog breeds. Additionally, we will generate our own dataset using Selenium to scrape Google Images."
   ]
  },
  {
   "cell_type": "markdown",
   "metadata": {},
   "source": [
    "## Selenium Sources:"
   ]
  },
  {
   "cell_type": "markdown",
   "metadata": {},
   "source": [
    "Selenium Sources\n",
    "\n",
    "- https://towardsdatascience.com/image-scraping-with-python-a96feda8af2d \n",
    "\n",
    "\n",
    "- https://medium.com/@wwwanandsuresh/web-scraping-images-from-google-9084545808a2  \n",
    "\n",
    "\n",
    "- https://selenium-python.readthedocs.io/installation.html\n",
    "\n",
    "\n",
    "\n",
    "- https://levelup.gitconnected.com/how-to-download-google-images-using-python-2021-82e69c637d59"
   ]
  },
  {
   "cell_type": "markdown",
   "metadata": {},
   "source": [
    "## Top 50 Most Popular Dog breeds"
   ]
  },
  {
   "cell_type": "markdown",
   "metadata": {},
   "source": [
    "Source: https://www.akc.org/expert-advice/dog-breeds/the-most-popular-dog-breeds-of-2020/"
   ]
  },
  {
   "cell_type": "code",
   "execution_count": 24,
   "metadata": {},
   "outputs": [],
   "source": [
    "dog_breeds = ['Akitas','Australian Shepherds','Basset Hounds','Beagles','Belgian Malinois','Bernese Mountain',\n",
    "              'Bichons Frises','Bloodhounds','Border Collies','Boston Terriers','Boxers','Brittanys','Bulldogs',\n",
    "              'Cane Corso','Cavalier King Charles Spaniels','Chesapeake Bay Retrievers','Chihuahuas',\n",
    "              'Cocker Spaniels','Dachshunds','Dalmatians','Doberman Pinschers','English Cocker Spaniels',\n",
    "              'English Springer Spaniels','French Bulldogs','German Shepherd','German Shorthaired Pointers',\n",
    "              'Golden Retrievers','Great Danes','Havanese','Labrador Retrievers','Maltese','Mastiffs',\n",
    "              'Miniature American Shepherds','Miniature Schnauzers','Newfoundlands','Pembroke Welsh Corgis',\n",
    "              'Pomeranians','Poodles','Portuguese Water Dogs','Pugs','Rhodesian Ridgebacks','Rottweilers',\n",
    "              'Shetland Sheepdogs','Shiba Inu','Shih Tzu','Siberian Huskies','Vizslas','Weimaraners',\n",
    "              'West Highland White Terriers','Yorkshire Terriers']"
   ]
  },
  {
   "cell_type": "markdown",
   "metadata": {},
   "source": [
    "# Scraping Google Images"
   ]
  },
  {
   "cell_type": "code",
   "execution_count": 25,
   "metadata": {},
   "outputs": [],
   "source": [
    "import time\n",
    "from selenium import webdriver\n",
    "import os, shutil"
   ]
  },
  {
   "cell_type": "code",
   "execution_count": 26,
   "metadata": {},
   "outputs": [],
   "source": [
    "#Defining formula for searching google images and saving n images\n",
    "\n",
    "def save_dog_pictures(chrome_driver_path,dog_breed,final_path,n):\n",
    "\n",
    "    #path for chrome driver\n",
    "    chrome_driver_path = chrome_driver_path\n",
    "\n",
    "    #Headless aka no browser window\n",
    "\n",
    "    options = webdriver.ChromeOptions() \n",
    "    options.add_argument('--headless')\n",
    "    options.add_argument(\"--window-size=1920x1080\")\n",
    "    options.add_argument('--start-maximized')\n",
    "    options.add_argument(\"--ignore-certificate-errors\");\n",
    "\n",
    "\n",
    "    #defining driver using path\n",
    "    driver = webdriver.Chrome(executable_path=chrome_driver_path, options=options)\n",
    "\n",
    "    #Navigating to google images\n",
    "\n",
    "    driver.get('http://www.images.google.com/')\n",
    "\n",
    "    #Identifying the search box on the page \n",
    "\n",
    "    search_box = driver.find_element_by_name('q')\n",
    "\n",
    "    #Searching for relevant query\n",
    "\n",
    "    search_for = dog_breed\n",
    "    search_box.send_keys(search_for)\n",
    "    search_box.submit()\n",
    "    \n",
    "    #Scrolling to the bottom of the page. Otherwise, n will be limited\n",
    "    \n",
    "    last_height = driver.execute_script('return document.body.scrollHeight')\n",
    "\n",
    "\n",
    "    while True:\n",
    "        #Tells the page to scroll all the way to the bottom\n",
    "        driver.execute_script('window.scrollTo(0,document.body.scrollHeight)')\n",
    "        #Stops the program for 2 seconds\n",
    "        time.sleep(2)\n",
    "        #Returns the height of the page after the driver scrolls down\n",
    "        new_height = driver.execute_script('return document.body.scrollHeight')\n",
    "        #This part will click the \"Show more results\" button when it pops up\n",
    "        try:\n",
    "            driver.find_element_by_xpath('//*[@id=\"islmp\"]/div/div/div/div/div[4]/div[2]/input').click()\n",
    "            time.sleep(2)\n",
    "        except:\n",
    "            pass\n",
    "        #If the returned height is the same as the one found on line 28 the loop stops cause it means we couldn't scroll anymore\n",
    "        if new_height == last_height:\n",
    "            break\n",
    "        last_height = new_height\n",
    "\n",
    "    #Saving first n images\n",
    "\n",
    "    for i in range(1, (n+1)):\n",
    "        try:\n",
    "            driver.find_element_by_xpath('//*[@id=\"islrg\"]/div[1]/div['+str(i)+']/a[1]/div[1]/img').screenshot(\n",
    "                final_path+search_for.replace(\" \",\"_\")+'_'+str(i)+'.png')\n",
    "        except:\n",
    "            pass"
   ]
  },
  {
   "cell_type": "code",
   "execution_count": 27,
   "metadata": {
    "scrolled": false
   },
   "outputs": [
    {
     "name": "stdout",
     "output_type": "stream",
     "text": [
      "0.1 percent complete\n",
      "0.2 percent complete\n",
      "0.4 percent complete\n",
      "0.8 percent complete\n"
     ]
    }
   ],
   "source": [
    "#Defining variables & downloading 1500 images per breed\n",
    "\n",
    "chrome_driver_path = './chromedriver'\n",
    "final_path = './Dog Images/'\n",
    "\n",
    "count = 0\n",
    "total = len(dog_breeds)\n",
    "\n",
    "for x in dog_breeds:\n",
    "    count += 1\n",
    "    save_dog_pictures(chrome_driver_path,x,final_path,1500)\n",
    "    \n",
    "    # Progress tracker\n",
    "    progress = count/total\n",
    "    if (progress % 0.1 == 0):\n",
    "        print(progress,\"percent complete\")"
   ]
  }
 ],
 "metadata": {
  "kernelspec": {
   "display_name": "Python 3",
   "language": "python",
   "name": "python3"
  },
  "language_info": {
   "codemirror_mode": {
    "name": "ipython",
    "version": 3
   },
   "file_extension": ".py",
   "mimetype": "text/x-python",
   "name": "python",
   "nbconvert_exporter": "python",
   "pygments_lexer": "ipython3",
   "version": "3.6.9"
  },
  "toc": {
   "base_numbering": 1,
   "nav_menu": {},
   "number_sections": true,
   "sideBar": true,
   "skip_h1_title": false,
   "title_cell": "Table of Contents",
   "title_sidebar": "Contents",
   "toc_cell": false,
   "toc_position": {},
   "toc_section_display": true,
   "toc_window_display": true
  },
  "varInspector": {
   "cols": {
    "lenName": 16,
    "lenType": 16,
    "lenVar": 40
   },
   "kernels_config": {
    "python": {
     "delete_cmd_postfix": "",
     "delete_cmd_prefix": "del ",
     "library": "var_list.py",
     "varRefreshCmd": "print(var_dic_list())"
    },
    "r": {
     "delete_cmd_postfix": ") ",
     "delete_cmd_prefix": "rm(",
     "library": "var_list.r",
     "varRefreshCmd": "cat(var_dic_list()) "
    }
   },
   "oldHeight": 122,
   "position": {
    "height": "40px",
    "left": "1522px",
    "right": "20px",
    "top": "120px",
    "width": "250px"
   },
   "types_to_exclude": [
    "module",
    "function",
    "builtin_function_or_method",
    "instance",
    "_Feature"
   ],
   "varInspector_section_display": "none",
   "window_display": true
  }
 },
 "nbformat": 4,
 "nbformat_minor": 2
}
